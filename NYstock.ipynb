{
 "cells": [
  {
   "cell_type": "code",
   "execution_count": 429,
   "metadata": {
    "scrolled": false
   },
   "outputs": [],
   "source": [
    "import numpy as np\n",
    "import pandas as pd\n",
    "import matplotlib.pyplot as plt\n",
    "dt=pd.read_csv('D:/pyLX/NYstockprices.csv', index_col='date',parse_dates=True)"
   ]
  },
  {
   "cell_type": "code",
   "execution_count": 430,
   "metadata": {},
   "outputs": [],
   "source": [
    "#dt.symbol.unique()"
   ]
  },
  {
   "cell_type": "code",
   "execution_count": 431,
   "metadata": {
    "scrolled": true
   },
   "outputs": [
    {
     "data": {
      "text/html": [
       "<div>\n",
       "<style scoped>\n",
       "    .dataframe tbody tr th:only-of-type {\n",
       "        vertical-align: middle;\n",
       "    }\n",
       "\n",
       "    .dataframe tbody tr th {\n",
       "        vertical-align: top;\n",
       "    }\n",
       "\n",
       "    .dataframe thead th {\n",
       "        text-align: right;\n",
       "    }\n",
       "</style>\n",
       "<table border=\"1\" class=\"dataframe\">\n",
       "  <thead>\n",
       "    <tr style=\"text-align: right;\">\n",
       "      <th></th>\n",
       "      <th>open</th>\n",
       "      <th>close</th>\n",
       "      <th>low</th>\n",
       "      <th>high</th>\n",
       "      <th>volume</th>\n",
       "    </tr>\n",
       "  </thead>\n",
       "  <tbody>\n",
       "    <tr>\n",
       "      <th>count</th>\n",
       "      <td>1762.000000</td>\n",
       "      <td>1762.000000</td>\n",
       "      <td>1762.000000</td>\n",
       "      <td>1762.000000</td>\n",
       "      <td>1.762000e+03</td>\n",
       "    </tr>\n",
       "    <tr>\n",
       "      <th>mean</th>\n",
       "      <td>30.436407</td>\n",
       "      <td>30.457446</td>\n",
       "      <td>30.130329</td>\n",
       "      <td>30.747747</td>\n",
       "      <td>1.468346e+06</td>\n",
       "    </tr>\n",
       "    <tr>\n",
       "      <th>std</th>\n",
       "      <td>7.390149</td>\n",
       "      <td>7.396364</td>\n",
       "      <td>7.360460</td>\n",
       "      <td>7.421176</td>\n",
       "      <td>8.117662e+05</td>\n",
       "    </tr>\n",
       "    <tr>\n",
       "      <th>min</th>\n",
       "      <td>15.380000</td>\n",
       "      <td>15.210000</td>\n",
       "      <td>15.010000</td>\n",
       "      <td>15.560000</td>\n",
       "      <td>2.748000e+05</td>\n",
       "    </tr>\n",
       "    <tr>\n",
       "      <th>25%</th>\n",
       "      <td>25.272500</td>\n",
       "      <td>25.232500</td>\n",
       "      <td>24.892499</td>\n",
       "      <td>25.490000</td>\n",
       "      <td>9.670250e+05</td>\n",
       "    </tr>\n",
       "    <tr>\n",
       "      <th>50%</th>\n",
       "      <td>28.300000</td>\n",
       "      <td>28.335000</td>\n",
       "      <td>28.035001</td>\n",
       "      <td>28.639999</td>\n",
       "      <td>1.283500e+06</td>\n",
       "    </tr>\n",
       "    <tr>\n",
       "      <th>75%</th>\n",
       "      <td>37.305001</td>\n",
       "      <td>37.369999</td>\n",
       "      <td>36.957499</td>\n",
       "      <td>37.747501</td>\n",
       "      <td>1.751200e+06</td>\n",
       "    </tr>\n",
       "    <tr>\n",
       "      <th>max</th>\n",
       "      <td>47.820000</td>\n",
       "      <td>47.590000</td>\n",
       "      <td>47.080002</td>\n",
       "      <td>47.910000</td>\n",
       "      <td>1.287420e+07</td>\n",
       "    </tr>\n",
       "  </tbody>\n",
       "</table>\n",
       "</div>"
      ],
      "text/plain": [
       "              open        close          low         high        volume\n",
       "count  1762.000000  1762.000000  1762.000000  1762.000000  1.762000e+03\n",
       "mean     30.436407    30.457446    30.130329    30.747747  1.468346e+06\n",
       "std       7.390149     7.396364     7.360460     7.421176  8.117662e+05\n",
       "min      15.380000    15.210000    15.010000    15.560000  2.748000e+05\n",
       "25%      25.272500    25.232500    24.892499    25.490000  9.670250e+05\n",
       "50%      28.300000    28.335000    28.035001    28.639999  1.283500e+06\n",
       "75%      37.305001    37.369999    36.957499    37.747501  1.751200e+06\n",
       "max      47.820000    47.590000    47.080002    47.910000  1.287420e+07"
      ]
     },
     "execution_count": 431,
     "metadata": {},
     "output_type": "execute_result"
    }
   ],
   "source": [
    "dt1=dt[dt.symbol=='AIV']\n",
    "#dt1.head()\n",
    "dt1.describe()"
   ]
  },
  {
   "cell_type": "code",
   "execution_count": 432,
   "metadata": {},
   "outputs": [
    {
     "data": {
      "text/plain": [
       "<matplotlib.legend.Legend at 0x23e37377b48>"
      ]
     },
     "execution_count": 432,
     "metadata": {},
     "output_type": "execute_result"
    },
    {
     "data": {
      "image/png": "[encoded data removed]",
      "text/plain": [
       "<Figure size 432x288 with 1 Axes>"
      ]
     },
     "metadata": {
      "needs_background": "light"
     },
     "output_type": "display_data"
    }
   ],
   "source": [
    "plt.plot(dt1.open.values,color='red',label='open')\n",
    "plt.plot(dt1.close.values,color='blue',label='close')\n",
    "plt.title('AIV Stock Price')\n",
    "plt.xlabel('Day')\n",
    "plt.ylabel('Price')\n",
    "plt.legend(loc='best')"
   ]
  },
  {
   "cell_type": "code",
   "execution_count": 433,
   "metadata": {},
   "outputs": [
    {
     "data": {
      "text/plain": [
       "<matplotlib.axes._subplots.AxesSubplot at 0x23e3778e848>"
      ]
     },
     "execution_count": 433,
     "metadata": {},
     "output_type": "execute_result"
    },
    {
     "data": {
      "image/png": "[encoded data removed]",
      "text/plain": [
       "<Figure size 432x288 with 1 Axes>"
      ]
     },
     "metadata": {
      "needs_background": "light"
     },
     "output_type": "display_data"
    }
   ],
   "source": [
    "DtoM=dt1.volume\n",
    "adj_V=DtoM.resample('M').mean()\n",
    "adj_V.plot()"
   ]
  },
  {
   "cell_type": "code",
   "execution_count": 434,
   "metadata": {},
   "outputs": [
    {
     "data": {
      "text/plain": [
       "date\n",
       "2010-01-04         NaN\n",
       "2010-01-05    0.020001\n",
       "2010-01-06    0.519998\n",
       "2010-01-07    0.470002\n",
       "2010-01-08   -0.150002\n",
       "                ...   \n",
       "2016-12-23    0.349999\n",
       "2016-12-27    0.029999\n",
       "2016-12-28   -0.489998\n",
       "2016-12-29    0.389999\n",
       "2016-12-30    0.750000\n",
       "Name: high, Length: 1762, dtype: float64"
      ]
     },
     "execution_count": 434,
     "metadata": {},
     "output_type": "execute_result"
    }
   ],
   "source": [
    "dt1.high.diff()"
   ]
  },
  {
   "cell_type": "code",
   "execution_count": 435,
   "metadata": {},
   "outputs": [
    {
     "data": {
      "text/html": [
       "<div>\n",
       "<style scoped>\n",
       "    .dataframe tbody tr th:only-of-type {\n",
       "        vertical-align: middle;\n",
       "    }\n",
       "\n",
       "    .dataframe tbody tr th {\n",
       "        vertical-align: top;\n",
       "    }\n",
       "\n",
       "    .dataframe thead th {\n",
       "        text-align: right;\n",
       "    }\n",
       "</style>\n",
       "<table border=\"1\" class=\"dataframe\">\n",
       "  <thead>\n",
       "    <tr style=\"text-align: right;\">\n",
       "      <th></th>\n",
       "      <th>date</th>\n",
       "      <th>symbol</th>\n",
       "      <th>open</th>\n",
       "      <th>close</th>\n",
       "      <th>low</th>\n",
       "      <th>high</th>\n",
       "      <th>volume</th>\n",
       "      <th>ma5</th>\n",
       "      <th>ma30</th>\n",
       "    </tr>\n",
       "  </thead>\n",
       "  <tbody>\n",
       "    <tr>\n",
       "      <th>0</th>\n",
       "      <td>2016-01-05 00:00:00</td>\n",
       "      <td>WLTW</td>\n",
       "      <td>123.430000</td>\n",
       "      <td>125.839996</td>\n",
       "      <td>122.309998</td>\n",
       "      <td>126.250000</td>\n",
       "      <td>2163600.0</td>\n",
       "      <td>NaN</td>\n",
       "      <td>NaN</td>\n",
       "    </tr>\n",
       "    <tr>\n",
       "      <th>1</th>\n",
       "      <td>2016-01-06 00:00:00</td>\n",
       "      <td>WLTW</td>\n",
       "      <td>125.239998</td>\n",
       "      <td>119.980003</td>\n",
       "      <td>119.940002</td>\n",
       "      <td>125.540001</td>\n",
       "      <td>2386400.0</td>\n",
       "      <td>NaN</td>\n",
       "      <td>NaN</td>\n",
       "    </tr>\n",
       "    <tr>\n",
       "      <th>2</th>\n",
       "      <td>2016-01-07 00:00:00</td>\n",
       "      <td>WLTW</td>\n",
       "      <td>116.379997</td>\n",
       "      <td>114.949997</td>\n",
       "      <td>114.930000</td>\n",
       "      <td>119.739998</td>\n",
       "      <td>2489500.0</td>\n",
       "      <td>NaN</td>\n",
       "      <td>NaN</td>\n",
       "    </tr>\n",
       "    <tr>\n",
       "      <th>3</th>\n",
       "      <td>2016-01-08 00:00:00</td>\n",
       "      <td>WLTW</td>\n",
       "      <td>115.480003</td>\n",
       "      <td>116.620003</td>\n",
       "      <td>113.500000</td>\n",
       "      <td>117.440002</td>\n",
       "      <td>2006300.0</td>\n",
       "      <td>NaN</td>\n",
       "      <td>NaN</td>\n",
       "    </tr>\n",
       "    <tr>\n",
       "      <th>4</th>\n",
       "      <td>2016-01-11 00:00:00</td>\n",
       "      <td>WLTW</td>\n",
       "      <td>117.010002</td>\n",
       "      <td>114.970001</td>\n",
       "      <td>114.089996</td>\n",
       "      <td>117.330002</td>\n",
       "      <td>1408600.0</td>\n",
       "      <td>119.508000</td>\n",
       "      <td>NaN</td>\n",
       "    </tr>\n",
       "    <tr>\n",
       "      <th>5</th>\n",
       "      <td>2016-01-12 00:00:00</td>\n",
       "      <td>WLTW</td>\n",
       "      <td>115.510002</td>\n",
       "      <td>115.550003</td>\n",
       "      <td>114.500000</td>\n",
       "      <td>116.059998</td>\n",
       "      <td>1098000.0</td>\n",
       "      <td>117.924000</td>\n",
       "      <td>NaN</td>\n",
       "    </tr>\n",
       "    <tr>\n",
       "      <th>6</th>\n",
       "      <td>2016-01-13 00:00:00</td>\n",
       "      <td>WLTW</td>\n",
       "      <td>116.459999</td>\n",
       "      <td>112.849998</td>\n",
       "      <td>112.589996</td>\n",
       "      <td>117.070000</td>\n",
       "      <td>949600.0</td>\n",
       "      <td>116.168001</td>\n",
       "      <td>NaN</td>\n",
       "    </tr>\n",
       "    <tr>\n",
       "      <th>7</th>\n",
       "      <td>2016-01-14 00:00:00</td>\n",
       "      <td>WLTW</td>\n",
       "      <td>113.510002</td>\n",
       "      <td>114.379997</td>\n",
       "      <td>110.050003</td>\n",
       "      <td>115.029999</td>\n",
       "      <td>785300.0</td>\n",
       "      <td>115.594002</td>\n",
       "      <td>NaN</td>\n",
       "    </tr>\n",
       "    <tr>\n",
       "      <th>8</th>\n",
       "      <td>2016-01-15 00:00:00</td>\n",
       "      <td>WLTW</td>\n",
       "      <td>113.330002</td>\n",
       "      <td>112.529999</td>\n",
       "      <td>111.919998</td>\n",
       "      <td>114.879997</td>\n",
       "      <td>1093700.0</td>\n",
       "      <td>115.164001</td>\n",
       "      <td>NaN</td>\n",
       "    </tr>\n",
       "    <tr>\n",
       "      <th>9</th>\n",
       "      <td>2016-01-19 00:00:00</td>\n",
       "      <td>WLTW</td>\n",
       "      <td>113.660004</td>\n",
       "      <td>110.379997</td>\n",
       "      <td>109.870003</td>\n",
       "      <td>115.870003</td>\n",
       "      <td>1523500.0</td>\n",
       "      <td>114.494002</td>\n",
       "      <td>NaN</td>\n",
       "    </tr>\n",
       "  </tbody>\n",
       "</table>\n",
       "</div>"
      ],
      "text/plain": [
       "                  date symbol        open       close         low        high  \\\n",
       "0  2016-01-05 00:00:00   WLTW  123.430000  125.839996  122.309998  126.250000   \n",
       "1  2016-01-06 00:00:00   WLTW  125.239998  119.980003  119.940002  125.540001   \n",
       "2  2016-01-07 00:00:00   WLTW  116.379997  114.949997  114.930000  119.739998   \n",
       "3  2016-01-08 00:00:00   WLTW  115.480003  116.620003  113.500000  117.440002   \n",
       "4  2016-01-11 00:00:00   WLTW  117.010002  114.970001  114.089996  117.330002   \n",
       "5  2016-01-12 00:00:00   WLTW  115.510002  115.550003  114.500000  116.059998   \n",
       "6  2016-01-13 00:00:00   WLTW  116.459999  112.849998  112.589996  117.070000   \n",
       "7  2016-01-14 00:00:00   WLTW  113.510002  114.379997  110.050003  115.029999   \n",
       "8  2016-01-15 00:00:00   WLTW  113.330002  112.529999  111.919998  114.879997   \n",
       "9  2016-01-19 00:00:00   WLTW  113.660004  110.379997  109.870003  115.870003   \n",
       "\n",
       "      volume         ma5  ma30  \n",
       "0  2163600.0         NaN   NaN  \n",
       "1  2386400.0         NaN   NaN  \n",
       "2  2489500.0         NaN   NaN  \n",
       "3  2006300.0         NaN   NaN  \n",
       "4  1408600.0  119.508000   NaN  \n",
       "5  1098000.0  117.924000   NaN  \n",
       "6   949600.0  116.168001   NaN  \n",
       "7   785300.0  115.594002   NaN  \n",
       "8  1093700.0  115.164001   NaN  \n",
       "9  1523500.0  114.494002   NaN  "
      ]
     },
     "execution_count": 435,
     "metadata": {},
     "output_type": "execute_result"
    }
   ],
   "source": [
    "df=pd.read_csv('D:/pyLX/NYstockprices.csv')\n",
    "# ma5: average of previous 5 closing price\n",
    "# ma3: average of previous 30 closing price\n",
    "df['ma5']=df['open'].rolling(5).mean()      # calculate the mean of the previous 5 closing price and put into ma5\n",
    "df['ma30']=df['open'].rolling(30).mean()\n",
    "df.head(10)"
   ]
  },
  {
   "cell_type": "code",
   "execution_count": 436,
   "metadata": {
    "scrolled": true
   },
   "outputs": [
    {
     "name": "stderr",
     "output_type": "stream",
     "text": [
      "C:\\ProgramData\\Anaconda3\\lib\\site-packages\\ipykernel_launcher.py:2: UserWarning: Boolean Series key will be reindexed to match DataFrame index.\n",
      "  \n"
     ]
    },
    {
     "data": {
      "text/html": [
       "<div>\n",
       "<style scoped>\n",
       "    .dataframe tbody tr th:only-of-type {\n",
       "        vertical-align: middle;\n",
       "    }\n",
       "\n",
       "    .dataframe tbody tr th {\n",
       "        vertical-align: top;\n",
       "    }\n",
       "\n",
       "    .dataframe thead th {\n",
       "        text-align: right;\n",
       "    }\n",
       "</style>\n",
       "<table border=\"1\" class=\"dataframe\">\n",
       "  <thead>\n",
       "    <tr style=\"text-align: right;\">\n",
       "      <th></th>\n",
       "      <th>date</th>\n",
       "      <th>symbol</th>\n",
       "      <th>open</th>\n",
       "      <th>close</th>\n",
       "      <th>low</th>\n",
       "      <th>high</th>\n",
       "      <th>volume</th>\n",
       "      <th>ma5</th>\n",
       "      <th>ma30</th>\n",
       "    </tr>\n",
       "  </thead>\n",
       "  <tbody>\n",
       "    <tr>\n",
       "      <th>755828</th>\n",
       "      <td>2016-03-31 00:00:00</td>\n",
       "      <td>AIV</td>\n",
       "      <td>41.669998</td>\n",
       "      <td>41.820000</td>\n",
       "      <td>41.470001</td>\n",
       "      <td>41.950001</td>\n",
       "      <td>1269300.0</td>\n",
       "      <td>59.738000</td>\n",
       "      <td>59.716667</td>\n",
       "    </tr>\n",
       "    <tr>\n",
       "      <th>756826</th>\n",
       "      <td>2016-04-04 00:00:00</td>\n",
       "      <td>AIV</td>\n",
       "      <td>42.020000</td>\n",
       "      <td>42.130001</td>\n",
       "      <td>41.840000</td>\n",
       "      <td>42.189999</td>\n",
       "      <td>1057500.0</td>\n",
       "      <td>60.300001</td>\n",
       "      <td>60.219667</td>\n",
       "    </tr>\n",
       "  </tbody>\n",
       "</table>\n",
       "</div>"
      ],
      "text/plain": [
       "                       date symbol       open      close        low  \\\n",
       "755828  2016-03-31 00:00:00    AIV  41.669998  41.820000  41.470001   \n",
       "756826  2016-04-04 00:00:00    AIV  42.020000  42.130001  41.840000   \n",
       "\n",
       "             high     volume        ma5       ma30  \n",
       "755828  41.950001  1269300.0  59.738000  59.716667  \n",
       "756826  42.189999  1057500.0  60.300001  60.219667  "
      ]
     },
     "execution_count": 436,
     "metadata": {},
     "output_type": "execute_result"
    }
   ],
   "source": [
    "df1=df[(df['date']>'2016-01-21')&(df['date']<'2016-12-14')]\n",
    "df2=df1[df.symbol=='AIV']\n",
    "# Death Cross: ma5 < ma30\n",
    "sr1=df2['ma5']>df2['ma30']\n",
    "sr2=df2['ma5']<=df2['ma30']\n",
    "df2[(sr1&sr2.shift(1))]"
   ]
  },
  {
   "cell_type": "code",
   "execution_count": 437,
   "metadata": {},
   "outputs": [],
   "source": [
    "death_cross=df2[(sr1&sr2.shift(1))].index"
   ]
  },
  {
   "cell_type": "code",
   "execution_count": 438,
   "metadata": {},
   "outputs": [
    {
     "data": {
      "text/html": [
       "<div>\n",
       "<style scoped>\n",
       "    .dataframe tbody tr th:only-of-type {\n",
       "        vertical-align: middle;\n",
       "    }\n",
       "\n",
       "    .dataframe tbody tr th {\n",
       "        vertical-align: top;\n",
       "    }\n",
       "\n",
       "    .dataframe thead th {\n",
       "        text-align: right;\n",
       "    }\n",
       "</style>\n",
       "<table border=\"1\" class=\"dataframe\">\n",
       "  <thead>\n",
       "    <tr style=\"text-align: right;\">\n",
       "      <th></th>\n",
       "      <th>date</th>\n",
       "      <th>symbol</th>\n",
       "      <th>open</th>\n",
       "      <th>close</th>\n",
       "      <th>low</th>\n",
       "      <th>high</th>\n",
       "      <th>volume</th>\n",
       "      <th>ma5</th>\n",
       "      <th>ma30</th>\n",
       "    </tr>\n",
       "  </thead>\n",
       "  <tbody>\n",
       "    <tr>\n",
       "      <th>738363</th>\n",
       "      <td>2016-02-09 00:00:00</td>\n",
       "      <td>AIV</td>\n",
       "      <td>35.240002</td>\n",
       "      <td>35.450001</td>\n",
       "      <td>35.000000</td>\n",
       "      <td>35.820000</td>\n",
       "      <td>2116700.0</td>\n",
       "      <td>50.690001</td>\n",
       "      <td>51.022334</td>\n",
       "    </tr>\n",
       "    <tr>\n",
       "      <th>756327</th>\n",
       "      <td>2016-04-01 00:00:00</td>\n",
       "      <td>AIV</td>\n",
       "      <td>41.650002</td>\n",
       "      <td>42.029999</td>\n",
       "      <td>41.619999</td>\n",
       "      <td>42.139999</td>\n",
       "      <td>842100.0</td>\n",
       "      <td>59.372000</td>\n",
       "      <td>59.416666</td>\n",
       "    </tr>\n",
       "    <tr>\n",
       "      <th>830762</th>\n",
       "      <td>2016-11-01 00:00:00</td>\n",
       "      <td>AIV</td>\n",
       "      <td>43.990002</td>\n",
       "      <td>43.630001</td>\n",
       "      <td>43.299999</td>\n",
       "      <td>44.340000</td>\n",
       "      <td>1618900.0</td>\n",
       "      <td>58.544001</td>\n",
       "      <td>60.877333</td>\n",
       "    </tr>\n",
       "  </tbody>\n",
       "</table>\n",
       "</div>"
      ],
      "text/plain": [
       "                       date symbol       open      close        low  \\\n",
       "738363  2016-02-09 00:00:00    AIV  35.240002  35.450001  35.000000   \n",
       "756327  2016-04-01 00:00:00    AIV  41.650002  42.029999  41.619999   \n",
       "830762  2016-11-01 00:00:00    AIV  43.990002  43.630001  43.299999   \n",
       "\n",
       "             high     volume        ma5       ma30  \n",
       "738363  35.820000  2116700.0  50.690001  51.022334  \n",
       "756327  42.139999   842100.0  59.372000  59.416666  \n",
       "830762  44.340000  1618900.0  58.544001  60.877333  "
      ]
     },
     "execution_count": 438,
     "metadata": {},
     "output_type": "execute_result"
    }
   ],
   "source": [
    "# Golden Cross: ma5 > ma30\n",
    "df2[-(sr1|sr2.shift(1))]"
   ]
  },
  {
   "cell_type": "code",
   "execution_count": 439,
   "metadata": {},
   "outputs": [],
   "source": [
    "golden_cross=df2[-(sr1|sr2.shift(1))].index"
   ]
  },
  {
   "cell_type": "code",
   "execution_count": 440,
   "metadata": {},
   "outputs": [
    {
     "data": {
      "text/plain": [
       "738363    1\n",
       "755828    0\n",
       "756327    1\n",
       "756826    0\n",
       "830762    1\n",
       "dtype: int64"
      ]
     },
     "execution_count": 440,
     "metadata": {},
     "output_type": "execute_result"
    }
   ],
   "source": [
    "# Suppose you have $10000 on Jan-1, 2016 planning to invest on stocks\n",
    "# Decision: buy stocks when the day is Golden Cross; sell stocks when the day is Death Cross\n",
    "fund=10000\n",
    "money=fund\n",
    "hold=0\n",
    "sr1=pd.Series(1,index=golden_cross)\n",
    "sr2=pd.Series(0,index=death_cross)\n",
    "label=sr1.append(sr2).sort_index()\n",
    "label"
   ]
  },
  {
   "cell_type": "code",
   "execution_count": 441,
   "metadata": {},
   "outputs": [
    {
     "name": "stdout",
     "output_type": "stream",
     "text": [
      "3417.9981999999964\n"
     ]
    }
   ],
   "source": [
    "for i in range(0,len(label)):\n",
    "    p=df1['open'][label.index[i]]\n",
    "    if label.iloc[i]==1:\n",
    "        buy=(money//(100*p))\n",
    "        hold+=buy*100\n",
    "        money-=buy*100*p\n",
    "    else:\n",
    "        money+=hold*p\n",
    "        hold=0\n",
    "p = df1['open'][df1.index[-1]]\n",
    "final = hold*p+money\n",
    "print(final-fund)"
   ]
  },
  {
   "cell_type": "code",
   "execution_count": null,
   "metadata": {},
   "outputs": [],
   "source": []
  }
 ],
 "metadata": {
  "kernelspec": {
   "display_name": "Python 3",
   "language": "python",
   "name": "python3"
  },
  "language_info": {
   "codemirror_mode": {
    "name": "ipython",
    "version": 3
   },
   "file_extension": ".py",
   "mimetype": "text/x-python",
   "name": "python",
   "nbconvert_exporter": "python",
   "pygments_lexer": "ipython3",
   "version": "3.7.6"
  }
 },
 "nbformat": 4,
 "nbformat_minor": 4
}
